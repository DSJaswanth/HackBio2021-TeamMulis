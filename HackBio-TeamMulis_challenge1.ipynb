{
 "cells": [
  {
   "cell_type": "markdown",
   "metadata": {},
   "source": [
    "### Write a script that prints your name, your email, your slack username (with @) and your biostack in that order."
   ]
  },
  {
   "cell_type": "code",
   "execution_count": 4,
   "metadata": {},
   "outputs": [
    {
     "name": "stdout",
     "output_type": "stream",
     "text": [
      "My name: Thotakura Pragna Lakshmi\n",
      "My email id: pragnapcu@gmail.com\n",
      "My slack username: @pragna_lakshmi\n",
      "My biostack: Genomics, Transcriptomics, Proteomics, Data Science\n"
     ]
    }
   ],
   "source": [
    "print(\"My name: Thotakura Pragna Lakshmi\")\n",
    "print(\"My email id: pragnapcu@gmail.com\")\n",
    "print(\"My slack username: @pragna_lakshmi\")\n",
    "print(\"My biostack: Genomics, Transcriptomics, Proteomics, Data Science\")"
   ]
  },
  {
   "cell_type": "code",
   "execution_count": null,
   "metadata": {},
   "outputs": [],
   "source": []
  },
  {
   "cell_type": "code",
   "execution_count": null,
   "metadata": {},
   "outputs": [],
   "source": []
  }
 ],
 "metadata": {
  "kernelspec": {
   "display_name": "Python 3",
   "language": "python",
   "name": "python3"
  },
  "language_info": {
   "codemirror_mode": {
    "name": "ipython",
    "version": 3
   },
   "file_extension": ".py",
   "mimetype": "text/x-python",
   "name": "python",
   "nbconvert_exporter": "python",
   "pygments_lexer": "ipython3",
   "version": "3.7.4"
  }
 },
 "nbformat": 4,
 "nbformat_minor": 2
}
